{
 "cells": [
  {
   "cell_type": "code",
   "metadata": {
    "tags": [],
    "cell_id": "a36e7240-18b9-42f9-8e03-a931b67ae860",
    "deepnote_to_be_reexecuted": false,
    "source_hash": "6236e63d",
    "execution_start": 1655254347852,
    "execution_millis": 3506,
    "deepnote_cell_type": "code",
    "deepnote_cell_height": 556.953125
   },
   "source": "!pip3 install regressors",
   "execution_count": 1,
   "outputs": [
    {
     "name": "stdout",
     "text": "Requirement already satisfied: regressors in /root/venv/lib/python3.7/site-packages (0.0.3)\nRequirement already satisfied: scikit-learn>=0.17 in /shared-libs/python3.7/py/lib/python3.7/site-packages (from regressors) (1.0.2)\nRequirement already satisfied: scipy>=0.9 in /shared-libs/python3.7/py/lib/python3.7/site-packages (from regressors) (1.7.3)\nRequirement already satisfied: pandas in /shared-libs/python3.7/py/lib/python3.7/site-packages (from regressors) (1.2.5)\nRequirement already satisfied: matplotlib in /shared-libs/python3.7/py/lib/python3.7/site-packages (from regressors) (3.5.2)\nRequirement already satisfied: statsmodels>=0.6.1 in /root/venv/lib/python3.7/site-packages (from regressors) (0.13.2)\nRequirement already satisfied: seaborn in /shared-libs/python3.7/py/lib/python3.7/site-packages (from regressors) (0.11.2)\nRequirement already satisfied: numpy>=1.6.1 in /shared-libs/python3.7/py/lib/python3.7/site-packages (from regressors) (1.21.6)\nRequirement already satisfied: threadpoolctl>=2.0.0 in /shared-libs/python3.7/py/lib/python3.7/site-packages (from scikit-learn>=0.17->regressors) (3.1.0)\nRequirement already satisfied: joblib>=0.11 in /shared-libs/python3.7/py/lib/python3.7/site-packages (from scikit-learn>=0.17->regressors) (1.1.0)\nRequirement already satisfied: patsy>=0.5.2 in /root/venv/lib/python3.7/site-packages (from statsmodels>=0.6.1->regressors) (0.5.2)\nRequirement already satisfied: packaging>=21.3 in /shared-libs/python3.7/py/lib/python3.7/site-packages (from statsmodels>=0.6.1->regressors) (21.3)\nRequirement already satisfied: python-dateutil>=2.7.3 in /shared-libs/python3.7/py-core/lib/python3.7/site-packages (from pandas->regressors) (2.8.2)\nRequirement already satisfied: pytz>=2017.3 in /shared-libs/python3.7/py/lib/python3.7/site-packages (from pandas->regressors) (2022.1)\nRequirement already satisfied: fonttools>=4.22.0 in /shared-libs/python3.7/py/lib/python3.7/site-packages (from matplotlib->regressors) (4.33.3)\nRequirement already satisfied: pyparsing>=2.2.1 in /shared-libs/python3.7/py/lib/python3.7/site-packages (from matplotlib->regressors) (3.0.9)\nRequirement already satisfied: kiwisolver>=1.0.1 in /shared-libs/python3.7/py/lib/python3.7/site-packages (from matplotlib->regressors) (1.4.2)\nRequirement already satisfied: pillow>=6.2.0 in /shared-libs/python3.7/py/lib/python3.7/site-packages (from matplotlib->regressors) (9.1.1)\nRequirement already satisfied: cycler>=0.10 in /shared-libs/python3.7/py/lib/python3.7/site-packages (from matplotlib->regressors) (0.11.0)\nRequirement already satisfied: typing-extensions in /shared-libs/python3.7/py-core/lib/python3.7/site-packages (from kiwisolver>=1.0.1->matplotlib->regressors) (4.2.0)\nRequirement already satisfied: six in /shared-libs/python3.7/py-core/lib/python3.7/site-packages (from patsy>=0.5.2->statsmodels>=0.6.1->regressors) (1.16.0)\n\u001b[33mWARNING: You are using pip version 22.0.4; however, version 22.1.2 is available.\nYou should consider upgrading via the '/root/venv/bin/python -m pip install --upgrade pip' command.\u001b[0m\u001b[33m\n\u001b[0m",
     "output_type": "stream"
    }
   ]
  },
  {
   "cell_type": "code",
   "source": "import pandas as pd\nimport numpy as np\nimport matplotlib.pyplot as plt\n\nfrom sklearn.preprocessing import StandardScaler\nfrom sklearn.linear_model import LinearRegression\nfrom sklearn.model_selection import train_test_split",
   "metadata": {
    "cell_id": "934d48c733604ad0a8f26fee1444793b",
    "tags": [],
    "deepnote_to_be_reexecuted": false,
    "source_hash": "1e1d2d95",
    "execution_start": 1655255096305,
    "execution_millis": 13,
    "deepnote_cell_type": "code",
    "deepnote_cell_height": 188.921875
   },
   "outputs": [],
   "execution_count": 17
  },
  {
   "cell_type": "code",
   "source": "df = pd.read_csv('insurance.csv')\n\nprint(df[df.charges>50000])\ndf = df[df.charges<50000]\n\ndf = pd.get_dummies(df, columns=['sex', 'smoker', 'region'], drop_first=True)\n\ndf['age_square'] = df.age**2\ndf['sobrepeso'] = (df.bmi >= 30).astype(int)\ndf['sobrepeso_fumador'] = (df.sobrepeso * df.smoker_yes)",
   "metadata": {
    "cell_id": "66a05591d0d44522bac437acdbd71753",
    "tags": [],
    "deepnote_to_be_reexecuted": false,
    "source_hash": "3efae75d",
    "execution_start": 1655254970747,
    "execution_millis": 100,
    "deepnote_cell_type": "code",
    "deepnote_cell_height": 414.203125
   },
   "outputs": [
    {
     "name": "stdout",
     "text": "      age     sex     bmi  children smoker     region      charges\n34     28    male  36.400         1    yes  southwest  51194.55914\n543    54  female  47.410         0    yes  southeast  63770.42801\n577    31  female  38.095         1    yes  northeast  58571.07448\n819    33  female  35.530         0    yes  northwest  55135.40209\n1146   60    male  32.800         0    yes  southwest  52590.82939\n1230   52    male  34.485         3    yes  northwest  60021.39897\n1300   45    male  30.360         0    yes  southeast  62592.87309\n",
     "output_type": "stream"
    }
   ],
   "execution_count": 6
  },
  {
   "cell_type": "code",
   "source": "x_cols = list(set(df_second.columns)-set(['charges']))\nx_cols = ['age_square', 'sobrepeso_fumador', 'smoker_yes', 'children']\ny_cols = ['charges']\n\nx = df[x_cols].values\ny = df[y_cols].values\n\nx = StandardScaler().fit_transform(x)\ny = StandardScaler().fit_transform(y)\n\nx_train, x_test, y_train, y_test = train_test_split(x, y, test_size=0.2, random_state=42)\n\nmodel = LinearRegression()\nmodel.fit(x_train, y_train)\n\ny_pred = model.predict(x_test)",
   "metadata": {
    "cell_id": "7923d6d13f044603999b23e99b728d04",
    "tags": [],
    "deepnote_to_be_reexecuted": false,
    "source_hash": "41443a1b",
    "execution_start": 1655256674020,
    "execution_millis": 8,
    "deepnote_cell_type": "code",
    "deepnote_cell_height": 350.9375
   },
   "outputs": [],
   "execution_count": 28
  },
  {
   "cell_type": "code",
   "source": "import sklearn.metrics as metrics\n\nmse = metrics.mean_squared_error(y_test, y_pred)\nr2 = metrics.r2_score(y_test, y_pred)\n\nprint(mse.round(4), r2.round(4))",
   "metadata": {
    "cell_id": "a440e3ac172f4b4aaaa1944538d58417",
    "tags": [],
    "deepnote_to_be_reexecuted": false,
    "source_hash": "3aacb74f",
    "execution_start": 1655256674869,
    "execution_millis": 4,
    "deepnote_cell_type": "code",
    "deepnote_cell_height": 201.9375
   },
   "outputs": [
    {
     "name": "stdout",
     "text": "0.1226 0.8944\n",
     "output_type": "stream"
    }
   ],
   "execution_count": 29
  },
  {
   "cell_type": "code",
   "source": "from regressors import stats\n\nmodel.intercept_ = model.intercept_[0]\nmodel.coef_ = model.coef_.reshape(-1)\ny_test = y_test.reshape(-1)",
   "metadata": {
    "cell_id": "a6c8a76ba3314ed4a115d1c0f38e4541",
    "tags": [],
    "deepnote_to_be_reexecuted": false,
    "source_hash": "bab9e50e",
    "execution_start": 1655256677673,
    "execution_millis": 2,
    "deepnote_cell_type": "code",
    "deepnote_cell_height": 152.9375
   },
   "outputs": [],
   "execution_count": 30
  },
  {
   "cell_type": "code",
   "source": "stats.summary(model, x_test, y_test, x_cols)",
   "metadata": {
    "cell_id": "f7703660159b4c10a6886c99920f462c",
    "tags": [],
    "deepnote_to_be_reexecuted": false,
    "source_hash": "149e43cf",
    "execution_start": 1655256680773,
    "execution_millis": 120,
    "deepnote_cell_type": "code",
    "deepnote_cell_height": 392.484375
   },
   "outputs": [
    {
     "name": "stdout",
     "text": "Residuals:\n    Min     1Q  Median     3Q    Max\n-1.9082 0.0668  0.1064 0.1412 0.4006\n\n\nCoefficients:\n                   Estimate  Std. Error  t value   p value\n_intercept         0.001562    0.021542   0.0725  0.942251\nage_square         0.326247    0.021623  15.0883  0.000000\nsobrepeso_fumador  0.482317    0.024629  19.5835  0.000000\nsmoker_yes         0.466319    0.026504  17.5940  0.000000\nchildren           0.079898    0.021349   3.7424  0.000223\n---\nR-squared:  0.89440,    Adjusted R-squared:  0.89279\nF-statistic: 554.77 on 4 features\n",
     "output_type": "stream"
    }
   ],
   "execution_count": 31
  },
  {
   "cell_type": "code",
   "source": "residuals = np.subtract(y_test, y_pred.reshape(-1))\n\nplt.scatter(y_pred, residuals)\nplt.show()",
   "metadata": {
    "cell_id": "a07e4dc5481c4618b41719e25f1e3471",
    "tags": [],
    "deepnote_to_be_reexecuted": false,
    "source_hash": "e66c29df",
    "execution_start": 1655256685303,
    "execution_millis": 243,
    "deepnote_cell_type": "code",
    "deepnote_cell_height": 402.890625,
    "deepnote_output_heights": [
     251.984375
    ]
   },
   "outputs": [
    {
     "data": {
      "text/plain": "<Figure size 432x288 with 1 Axes>",
      "image/png": "[encoded data removed]"
     },
     "metadata": {
      "needs_background": "light",
      "image/png": {
       "width": 380,
       "height": 250
      }
     },
     "output_type": "display_data"
    }
   ],
   "execution_count": 32
  },
  {
   "cell_type": "markdown",
   "source": "# With Keras",
   "metadata": {
    "cell_id": "e00e69ecb5f54ce28e03b06243b8223f",
    "tags": [],
    "deepnote_cell_type": "markdown",
    "deepnote_cell_height": 81.9375
   }
  },
  {
   "cell_type": "code",
   "source": "from keras.models import Sequential\nfrom keras.layers import Dense, Dropout\nfrom keras.callbacks import ModelCheckpoint",
   "metadata": {
    "cell_id": "eba6e793d18f4f9e90d7e367884c2fd7",
    "tags": [],
    "deepnote_to_be_reexecuted": false,
    "source_hash": "b7edb783",
    "execution_start": 1655257051146,
    "execution_millis": 3,
    "deepnote_cell_type": "code",
    "deepnote_cell_height": 116.9375
   },
   "outputs": [],
   "execution_count": 53
  },
  {
   "cell_type": "code",
   "source": "model = Sequential([\n    Dense(128, input_dim=x_train.shape[1], activation='relu'),\n    Dense(32,activation='relu'),\n    Dropout(0.2),\n    Dense(1)\n])\n\nmodel.compile(optimizer='adam', loss='mse')\n\nsave_model = ModelCheckpoint('/work/regresion-lineal_con_scikit-learn', \n                        save_best_only=True,\n                    )\nhistory = model.fit(x_train, y_train, epochs=100, validation_split=0.2, callbacks=[save_model])\n\npd.DataFrame(history.history).plot()",
   "metadata": {
    "cell_id": "04e92619231146f1850d44aa6b129055",
    "tags": [],
    "deepnote_to_be_reexecuted": false,
    "source_hash": "fee23e17",
    "execution_start": 1655257055296,
    "execution_millis": 10065,
    "deepnote_cell_type": "code",
    "deepnote_cell_height": 1286.03125,
    "deepnote_output_heights": [
     null,
     21.1875,
     249.96875
    ]
   },
   "outputs": [
    {
     "name": "stdout",
     "text": "Epoch 1/100\n 1/27 [>.............................] - ETA: 8s - loss: 0.8823INFO:tensorflow:Assets written to: /work/regresion-lineal_con_scikit-learn/assets\n27/27 [==============================] - 1s 27ms/step - loss: 0.3352 - val_loss: 0.1306\nEpoch 2/100\n 1/27 [>.............................] - ETA: 0s - loss: 0.1157INFO:tensorflow:Assets written to: /work/regresion-lineal_con_scikit-learn/assets\n27/27 [==============================] - 1s 23ms/step - loss: 0.1828 - val_loss: 0.1242\nEpoch 3/100\n27/27 [==============================] - 0s 2ms/step - loss: 0.1917 - val_loss: 0.1257\nEpoch 4/100\n27/27 [==============================] - 0s 2ms/step - loss: 0.1755 - val_loss: 0.1265\nEpoch 5/100\n 1/27 [>.............................] - ETA: 0s - loss: 0.1713INFO:tensorflow:Assets written to: /work/regresion-lineal_con_scikit-learn/assets\n27/27 [==============================] - 1s 23ms/step - loss: 0.1829 - val_loss: 0.1225\nEpoch 6/100\n27/27 [==============================] - 0s 2ms/step - loss: 0.1804 - val_loss: 0.1295\nEpoch 7/100\n27/27 [==============================] - 0s 2ms/step - loss: 0.1700 - val_loss: 0.1243\nEpoch 8/100\n27/27 [==============================] - 0s 2ms/step - loss: 0.1701 - val_loss: 0.1249\nEpoch 9/100\n27/27 [==============================] - 0s 2ms/step - loss: 0.1655 - val_loss: 0.1244\nEpoch 10/100\n27/27 [==============================] - 0s 2ms/step - loss: 0.1613 - val_loss: 0.1247\nEpoch 11/100\n27/27 [==============================] - 0s 2ms/step - loss: 0.1644 - val_loss: 0.1237\nEpoch 12/100\n 1/27 [>.............................] - ETA: 0s - loss: 0.0640INFO:tensorflow:Assets written to: /work/regresion-lineal_con_scikit-learn/assets\n27/27 [==============================] - 1s 22ms/step - loss: 0.1706 - val_loss: 0.1211\nEpoch 13/100\n 1/27 [>.............................] - ETA: 0s - loss: 0.1344INFO:tensorflow:Assets written to: /work/regresion-lineal_con_scikit-learn/assets\n27/27 [==============================] - 1s 22ms/step - loss: 0.1601 - val_loss: 0.1210\nEpoch 14/100\n27/27 [==============================] - 0s 2ms/step - loss: 0.1629 - val_loss: 0.1220\nEpoch 15/100\n27/27 [==============================] - 0s 2ms/step - loss: 0.1687 - val_loss: 0.1229\nEpoch 16/100\n27/27 [==============================] - 0s 2ms/step - loss: 0.1538 - val_loss: 0.1229\nEpoch 17/100\n27/27 [==============================] - 0s 2ms/step - loss: 0.1602 - val_loss: 0.1224\nEpoch 18/100\n27/27 [==============================] - 0s 2ms/step - loss: 0.1577 - val_loss: 0.1233\nEpoch 19/100\n27/27 [==============================] - 0s 2ms/step - loss: 0.1652 - val_loss: 0.1233\nEpoch 20/100\n27/27 [==============================] - 0s 2ms/step - loss: 0.1617 - val_loss: 0.1226\nEpoch 21/100\n27/27 [==============================] - 0s 2ms/step - loss: 0.1602 - val_loss: 0.1224\nEpoch 22/100\n27/27 [==============================] - 0s 2ms/step - loss: 0.1625 - val_loss: 0.1227\nEpoch 23/100\n27/27 [==============================] - 0s 2ms/step - loss: 0.1612 - val_loss: 0.1275\nEpoch 24/100\n27/27 [==============================] - 0s 2ms/step - loss: 0.1610 - val_loss: 0.1240\nEpoch 25/100\n27/27 [==============================] - 0s 2ms/step - loss: 0.1564 - val_loss: 0.1238\nEpoch 26/100\n27/27 [==============================] - 0s 2ms/step - loss: 0.1593 - val_loss: 0.1220\nEpoch 27/100\n27/27 [==============================] - 0s 2ms/step - loss: 0.1586 - val_loss: 0.1223\nEpoch 28/100\n27/27 [==============================] - 0s 2ms/step - loss: 0.1596 - val_loss: 0.1250\nEpoch 29/100\n27/27 [==============================] - 0s 2ms/step - loss: 0.1598 - val_loss: 0.1339\nEpoch 30/100\n27/27 [==============================] - 0s 2ms/step - loss: 0.1608 - val_loss: 0.1253\nEpoch 31/100\n27/27 [==============================] - 0s 2ms/step - loss: 0.1562 - val_loss: 0.1254\nEpoch 32/100\n27/27 [==============================] - 0s 3ms/step - loss: 0.1586 - val_loss: 0.1338\nEpoch 33/100\n27/27 [==============================] - 0s 2ms/step - loss: 0.1545 - val_loss: 0.1223\nEpoch 34/100\n27/27 [==============================] - 0s 3ms/step - loss: 0.1585 - val_loss: 0.1229\nEpoch 35/100\n27/27 [==============================] - 0s 2ms/step - loss: 0.1537 - val_loss: 0.1225\nEpoch 36/100\n27/27 [==============================] - 0s 2ms/step - loss: 0.1578 - val_loss: 0.1232\nEpoch 37/100\n27/27 [==============================] - 0s 2ms/step - loss: 0.1612 - val_loss: 0.1258\nEpoch 38/100\n27/27 [==============================] - 0s 2ms/step - loss: 0.1611 - val_loss: 0.1221\nEpoch 39/100\n27/27 [==============================] - 0s 2ms/step - loss: 0.1577 - val_loss: 0.1240\nEpoch 40/100\n27/27 [==============================] - 0s 2ms/step - loss: 0.1587 - val_loss: 0.1258\nEpoch 41/100\n27/27 [==============================] - 0s 2ms/step - loss: 0.1591 - val_loss: 0.1293\nEpoch 42/100\n27/27 [==============================] - 0s 2ms/step - loss: 0.1600 - val_loss: 0.1212\nEpoch 43/100\n27/27 [==============================] - 0s 2ms/step - loss: 0.1604 - val_loss: 0.1236\nEpoch 44/100\n27/27 [==============================] - 0s 2ms/step - loss: 0.1654 - val_loss: 0.1250\nEpoch 45/100\n27/27 [==============================] - 0s 2ms/step - loss: 0.1620 - val_loss: 0.1226\nEpoch 46/100\n27/27 [==============================] - 0s 2ms/step - loss: 0.1558 - val_loss: 0.1217\nEpoch 47/100\n27/27 [==============================] - 0s 2ms/step - loss: 0.1590 - val_loss: 0.1220\nEpoch 48/100\n27/27 [==============================] - 0s 2ms/step - loss: 0.1645 - val_loss: 0.1214\nEpoch 49/100\n27/27 [==============================] - 0s 2ms/step - loss: 0.1603 - val_loss: 0.1247\nEpoch 50/100\n27/27 [==============================] - 0s 2ms/step - loss: 0.1608 - val_loss: 0.1250\nEpoch 51/100\n27/27 [==============================] - 0s 2ms/step - loss: 0.1581 - val_loss: 0.1215\nEpoch 52/100\n27/27 [==============================] - 0s 2ms/step - loss: 0.1589 - val_loss: 0.1221\nEpoch 53/100\n27/27 [==============================] - 0s 2ms/step - loss: 0.1502 - val_loss: 0.1254\nEpoch 54/100\n27/27 [==============================] - 0s 2ms/step - loss: 0.1560 - val_loss: 0.1240\nEpoch 55/100\n 1/27 [>.............................] - ETA: 0s - loss: 0.0946INFO:tensorflow:Assets written to: /work/regresion-lineal_con_scikit-learn/assets\n27/27 [==============================] - 1s 23ms/step - loss: 0.1594 - val_loss: 0.1205\nEpoch 56/100\n27/27 [==============================] - 0s 2ms/step - loss: 0.1588 - val_loss: 0.1266\nEpoch 57/100\n27/27 [==============================] - 0s 2ms/step - loss: 0.1624 - val_loss: 0.1227\nEpoch 58/100\n27/27 [==============================] - 0s 2ms/step - loss: 0.1573 - val_loss: 0.1238\nEpoch 59/100\n27/27 [==============================] - 0s 2ms/step - loss: 0.1609 - val_loss: 0.1247\nEpoch 60/100\n27/27 [==============================] - 0s 2ms/step - loss: 0.1590 - val_loss: 0.1254\nEpoch 61/100\n27/27 [==============================] - 0s 2ms/step - loss: 0.1579 - val_loss: 0.1225\nEpoch 62/100\n27/27 [==============================] - 0s 2ms/step - loss: 0.1624 - val_loss: 0.1224\nEpoch 63/100\n27/27 [==============================] - 0s 2ms/step - loss: 0.1589 - val_loss: 0.1232\nEpoch 64/100\n27/27 [==============================] - 0s 2ms/step - loss: 0.1612 - val_loss: 0.1246\nEpoch 65/100\n27/27 [==============================] - 0s 2ms/step - loss: 0.1573 - val_loss: 0.1240\nEpoch 66/100\n27/27 [==============================] - 0s 2ms/step - loss: 0.1567 - val_loss: 0.1223\nEpoch 67/100\n27/27 [==============================] - 0s 2ms/step - loss: 0.1545 - val_loss: 0.1225\nEpoch 68/100\n27/27 [==============================] - 0s 2ms/step - loss: 0.1575 - val_loss: 0.1225\nEpoch 69/100\n27/27 [==============================] - 0s 3ms/step - loss: 0.1616 - val_loss: 0.1230\nEpoch 70/100\n27/27 [==============================] - 0s 2ms/step - loss: 0.1585 - val_loss: 0.1233\nEpoch 71/100\n27/27 [==============================] - 0s 2ms/step - loss: 0.1582 - val_loss: 0.1240\nEpoch 72/100\n27/27 [==============================] - 0s 2ms/step - loss: 0.1568 - val_loss: 0.1229\nEpoch 73/100\n27/27 [==============================] - 0s 2ms/step - loss: 0.1577 - val_loss: 0.1228\nEpoch 74/100\n27/27 [==============================] - 0s 2ms/step - loss: 0.1558 - val_loss: 0.1227\nEpoch 75/100\n27/27 [==============================] - 0s 2ms/step - loss: 0.1596 - val_loss: 0.1223\nEpoch 76/100\n27/27 [==============================] - 0s 2ms/step - loss: 0.1600 - val_loss: 0.1225\nEpoch 77/100\n27/27 [==============================] - 0s 2ms/step - loss: 0.1511 - val_loss: 0.1234\nEpoch 78/100\n27/27 [==============================] - 0s 2ms/step - loss: 0.1563 - val_loss: 0.1250\nEpoch 79/100\n27/27 [==============================] - 0s 2ms/step - loss: 0.1598 - val_loss: 0.1234\nEpoch 80/100\n27/27 [==============================] - 0s 2ms/step - loss: 0.1595 - val_loss: 0.1222\nEpoch 81/100\n27/27 [==============================] - 0s 2ms/step - loss: 0.1596 - val_loss: 0.1228\nEpoch 82/100\n27/27 [==============================] - 0s 2ms/step - loss: 0.1576 - val_loss: 0.1244\nEpoch 83/100\n27/27 [==============================] - 0s 2ms/step - loss: 0.1560 - val_loss: 0.1240\nEpoch 84/100\n27/27 [==============================] - 0s 2ms/step - loss: 0.1577 - val_loss: 0.1244\nEpoch 85/100\n27/27 [==============================] - 0s 2ms/step - loss: 0.1552 - val_loss: 0.1235\nEpoch 86/100\n27/27 [==============================] - 0s 2ms/step - loss: 0.1556 - val_loss: 0.1246\nEpoch 87/100\n27/27 [==============================] - 0s 2ms/step - loss: 0.1490 - val_loss: 0.1226\nEpoch 88/100\n27/27 [==============================] - 0s 2ms/step - loss: 0.1530 - val_loss: 0.1217\nEpoch 89/100\n27/27 [==============================] - 0s 2ms/step - loss: 0.1623 - val_loss: 0.1226\nEpoch 90/100\n27/27 [==============================] - 0s 2ms/step - loss: 0.1597 - val_loss: 0.1255\nEpoch 91/100\n27/27 [==============================] - 0s 2ms/step - loss: 0.1608 - val_loss: 0.1226\nEpoch 92/100\n27/27 [==============================] - 0s 2ms/step - loss: 0.1557 - val_loss: 0.1213\nEpoch 93/100\n27/27 [==============================] - 0s 2ms/step - loss: 0.1587 - val_loss: 0.1264\nEpoch 94/100\n27/27 [==============================] - 0s 2ms/step - loss: 0.1555 - val_loss: 0.1261\nEpoch 95/100\n27/27 [==============================] - 0s 2ms/step - loss: 0.1563 - val_loss: 0.1228\nEpoch 96/100\n27/27 [==============================] - 0s 2ms/step - loss: 0.1588 - val_loss: 0.1222\nEpoch 97/100\n27/27 [==============================] - 0s 2ms/step - loss: 0.1586 - val_loss: 0.1237\nEpoch 98/100\n27/27 [==============================] - 0s 2ms/step - loss: 0.1597 - val_loss: 0.1248\nEpoch 99/100\n27/27 [==============================] - 0s 2ms/step - loss: 0.1545 - val_loss: 0.1209\nEpoch 100/100\n27/27 [==============================] - 0s 2ms/step - loss: 0.1566 - val_loss: 0.1221\n",
     "output_type": "stream"
    },
    {
     "output_type": "execute_result",
     "execution_count": 54,
     "data": {
      "text/plain": "<AxesSubplot:>"
     },
     "metadata": {}
    },
    {
     "data": {
      "text/plain": "<Figure size 432x288 with 1 Axes>",
      "image/png": "[encoded data removed]"
     },
     "metadata": {
      "needs_background": "light",
      "image/png": {
       "width": 378,
       "height": 248
      }
     },
     "output_type": "display_data"
    }
   ],
   "execution_count": 54
  },
  {
   "cell_type": "code",
   "source": "print(model.evaluate(x_test, y_test))\nprint(f'r2: {metrics.r2_score(y_test, model.predict(x_test)).round(3)}')",
   "metadata": {
    "cell_id": "aeb4aa9a8136433194036cd985ed4f3c",
    "tags": [],
    "deepnote_to_be_reexecuted": false,
    "source_hash": "47d3531b",
    "execution_start": 1655257072085,
    "execution_millis": 298,
    "deepnote_cell_type": "code",
    "deepnote_cell_height": 190.046875
   },
   "outputs": [
    {
     "name": "stdout",
     "text": "9/9 [==============================] - 0s 1ms/step - loss: 0.1352\n0.13521187007427216\n9/9 [==============================] - 0s 1ms/step\nr2: 0.884\n",
     "output_type": "stream"
    }
   ],
   "execution_count": 55
  },
  {
   "cell_type": "code",
   "source": "y_pred = model.predict(x_test)\n\nresiduals = np.subtract(y_test, y_pred.reshape(-1))\n\nplt.scatter(y_pred, residuals)\nplt.show()",
   "metadata": {
    "cell_id": "7348ad9c755441bc8ab0de579aebbad9",
    "tags": [],
    "deepnote_to_be_reexecuted": false,
    "source_hash": "c5a2cdf2",
    "execution_start": 1655257074553,
    "execution_millis": 305,
    "deepnote_cell_type": "code",
    "deepnote_cell_height": 482.875,
    "deepnote_output_heights": [
     null,
     249.96875
    ]
   },
   "outputs": [
    {
     "name": "stdout",
     "text": "9/9 [==============================] - 0s 1ms/step\n",
     "output_type": "stream"
    },
    {
     "data": {
      "text/plain": "<Figure size 432x288 with 1 Axes>",
      "image/png": "[encoded data removed]"
     },
     "metadata": {
      "needs_background": "light",
      "image/png": {
       "width": 380,
       "height": 248
      }
     },
     "output_type": "display_data"
    }
   ],
   "execution_count": 56
  },
  {
   "cell_type": "code",
   "source": "",
   "metadata": {
    "cell_id": "be5d3e30750b4935a523422bff8b0c30",
    "tags": [],
    "owner_user_id": "081ce646-6279-4e03-b23e-f950e8a6c23d",
    "deepnote_cell_type": "code",
    "deepnote_cell_height": 65.9375
   },
   "outputs": [],
   "execution_count": null
  },
  {
   "cell_type": "markdown",
   "source": "<a style='text-decoration:none;line-height:16px;display:flex;color:#5B5B62;padding:10px;justify-content:end;' href='https://deepnote.com?utm_source=created-in-deepnote-cell&projectId=fff53006-0184-4848-b826-e5ff712e4edb' target=\"_blank\">\n<img alt='Created in deepnote.com' style='display:inline;max-height:16px;margin:0px;margin-right:7.5px;' src='data:image/svg+xml;base64,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' > </img>\nCreated in <span style='font-weight:600;margin-left:4px;'>Deepnote</span></a>",
   "metadata": {
    "tags": [],
    "created_in_deepnote_cell": true,
    "deepnote_cell_type": "markdown"
   }
  }
 ],
 "nbformat": 4,
 "nbformat_minor": 2,
 "metadata": {
  "orig_nbformat": 2,
  "deepnote": {},
  "deepnote_notebook_id": "6d6779c5-5369-49be-93c3-31daecfea9b3",
  "deepnote_execution_queue": []
 }
}